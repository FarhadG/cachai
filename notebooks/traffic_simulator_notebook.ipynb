{
 "cells": [
  {
   "cell_type": "code",
   "execution_count": null,
   "metadata": {},
   "outputs": [],
   "source": [
    "%load_ext autoreload\n",
    "%autoreload 2\n",
    "\n",
    "import os\n",
    "import math\n",
    "import numpy as np\n",
    "import pandas as pd\n",
    "import seaborn as sns\n",
    "import plotly.express as px\n",
    "import plotly.graph_objects as go\n",
    "from plotly.subplots import make_subplots\n",
    "\n",
    "if 'cachai' not in os.listdir('.'):\n",
    "    os.chdir('../')\n",
    "\n",
    "import cachai.utils.models as M\n",
    "import cachai.utils.constants as C\n",
    "from cachai.simulator.traffic_simulator import CustomTrafficSimulator\n",
    "import cachai.simulator.generators.record_generator as RecordGenerator\n",
    "import cachai.simulator.generators.record_sampler as RecordSampler\n",
    "import cachai.simulator.generators.traffic_generator as TrafficGenerator\n",
    "import cachai.simulator.generators.feature_generator as FeatureGenerator"
   ]
  },
  {
   "cell_type": "code",
   "execution_count": null,
   "metadata": {},
   "outputs": [],
   "source": [
    "RecordGenerator.generate_record_payload(count=2, payload_length=20)"
   ]
  },
  {
   "cell_type": "code",
   "execution_count": null,
   "metadata": {},
   "outputs": [],
   "source": [
    "record_keys, records_dict = RecordGenerator.generate_records(\n",
    "    records_count=10,\n",
    "    generate_record_payload=lambda: RecordGenerator.generate_record_payload(count=2, payload_length=20)\n",
    ")\n",
    "\n",
    "print('Record keys:')\n",
    "print(record_keys)\n",
    "print()\n",
    "print('Records dict:')\n",
    "print(records_dict)"
   ]
  },
  {
   "cell_type": "code",
   "execution_count": null,
   "metadata": {},
   "outputs": [],
   "source": [
    "px.histogram(\n",
    "    x=RecordSampler.uniform(record_keys, count=1_000),\n",
    "    title='Records with uniform sampling',\n",
    "    category_orders={'x': record_keys},\n",
    "    labels={'x': 'Record key'},\n",
    "    template='plotly_dark'\n",
    ").show()"
   ]
  },
  {
   "cell_type": "code",
   "execution_count": null,
   "metadata": {},
   "outputs": [],
   "source": [
    "fig = go.Figure()\n",
    "\n",
    "means = [0.25, 0.5, 0.75]\n",
    "for mean in means:\n",
    "    sample = RecordSampler.normal(record_keys, count=500, mean=mean, std=0.1)\n",
    "    fig.add_trace(go.Histogram(\n",
    "        x=sample,\n",
    "        name=f'Mean: {mean}',\n",
    "    ))\n",
    "\n",
    "fig.update_layout(\n",
    "    title='Records with normal sampling and different means',\n",
    "    xaxis_title='Record',\n",
    "    yaxis_title='Volume',\n",
    "    showlegend=True,\n",
    "    template='plotly_dark',\n",
    "    xaxis={\n",
    "        'categoryorder': 'array',\n",
    "        'categoryarray': record_keys\n",
    "    }\n",
    ").show()"
   ]
  },
  {
   "cell_type": "code",
   "execution_count": null,
   "metadata": {},
   "outputs": [],
   "source": [
    "alphas = [-2.0, -1.0, 0.0, 1.0, 2.0]\n",
    "samples = [RecordSampler.zipf(record_keys, count=1_000, alpha=a, return_probs=True) for a in alphas]\n",
    "\n",
    "fig = go.Figure()\n",
    "for i, (sample, probs) in enumerate(samples):\n",
    "    fig.add_trace(go.Scatter(\n",
    "        x=record_keys,\n",
    "        y=probs,\n",
    "        mode='lines+markers',\n",
    "        name=f'alpha = {alphas[i]}'\n",
    "    ))\n",
    "\n",
    "fig.update_layout(\n",
    "    title='Records with Zipf sampling and varying alphas',\n",
    "    xaxis_title='Record',\n",
    "    yaxis_title='Probability',\n",
    "    showlegend=True,\n",
    "    template='plotly_dark',\n",
    "    xaxis={\n",
    "        'categoryorder': 'array',\n",
    "        'categoryarray': record_keys\n",
    "    }\n",
    ").show()"
   ]
  },
  {
   "cell_type": "code",
   "execution_count": null,
   "metadata": {},
   "outputs": [],
   "source": [
    "for i in np.linspace(0.0, 1.0, 5):\n",
    "    px.histogram(\n",
    "        x=RecordSampler.periodic_zipf(\n",
    "            record_keys,\n",
    "            count=1_000,\n",
    "            alpha=2,\n",
    "            periods_count=1,\n",
    "            progress=i\n",
    "        ),\n",
    "        title=f'Records with periodic Zipf sampling and progress: {i}',\n",
    "        category_orders={'x': record_keys},\n",
    "        labels={'x': 'Record key'},\n",
    "        template='plotly_dark'\n",
    "    ).show()"
   ]
  },
  {
   "cell_type": "code",
   "execution_count": null,
   "metadata": {},
   "outputs": [],
   "source": [
    "operations = TrafficGenerator.sample_operations(count=1_000, operations=[\n",
    "    TrafficGenerator.Operation(C.READ),\n",
    "    TrafficGenerator.Operation(C.UPDATE),\n",
    "    TrafficGenerator.Operation(C.DATA_CHANGED)\n",
    "], probs=[0.5, 0.3, 0.2])\n",
    "\n",
    "px.histogram(\n",
    "    title='Choosing operations based on a PDF',\n",
    "    x=[o.type for o in operations],\n",
    "    labels={'x': 'Operation Type'},\n",
    "    template='plotly_dark'\n",
    ").show()"
   ]
  },
  {
   "cell_type": "code",
   "execution_count": null,
   "metadata": {},
   "outputs": [],
   "source": [
    "traffic = TrafficGenerator.generate_traffic(\n",
    "    start='01-01-2024 00:00:00',\n",
    "    end='01-05-2024 00:00:00',\n",
    "    freq='h',\n",
    "    count=20_000,\n",
    "    periodic_params={'amplitude': 400, 'periods_count': 3, 'v_shift': 100},\n",
    "    spike_params={'amplitude': 10000, 'h_shift': np.pi*1.5, 'v_shift': 0, 'spread': 0.01},\n",
    "    # noise_params={'amplitude': 10},\n",
    ")\n",
    "\n",
    "px.histogram(\n",
    "    x=traffic,\n",
    "    title='Simulated traffic volume',\n",
    "    labels={'x': 'Time'},\n",
    "    template='plotly_dark',\n",
    ").show()"
   ]
  },
  {
   "cell_type": "code",
   "execution_count": null,
   "metadata": {},
   "outputs": [],
   "source": [
    "simulator = CustomTrafficSimulator(\n",
    "    M.TTLSimulatorConfig(records_count=3, operations_count=10000))\n",
    "simulator.generate()"
   ]
  },
  {
   "cell_type": "code",
   "execution_count": null,
   "metadata": {},
   "outputs": [],
   "source": [
    "px.histogram(\n",
    "    x=simulator.run_phase_df[C.TIMESTAMP],\n",
    "    title='Simulated traffic volume',\n",
    "    labels={'x': 'Time'},\n",
    "    template='plotly_dark',\n",
    ").show()"
   ]
  },
  {
   "cell_type": "code",
   "execution_count": null,
   "metadata": {},
   "outputs": [],
   "source": [
    "progress_range = np.linspace(0.0, 1.0, 6)\n",
    "for i in progress_range:\n",
    "    increment = 1/(len(progress_range)-1)\n",
    "    start_slice = round(simulator.operations_count * i)\n",
    "    end_slice = round(simulator.operations_count * (i+increment))\n",
    "    if end_slice > simulator.operations_count:\n",
    "        break\n",
    "    sliced_run_phase = simulator.run_phase_df[start_slice:end_slice]\n",
    "    updates_filter = sliced_run_phase['operation'] == C.DATA_CHANGED\n",
    "    px.histogram(\n",
    "        x=sliced_run_phase[C.RECORD][updates_filter],\n",
    "        title=f'Record samples: {start_slice} - {end_slice}',\n",
    "        labels={'x': 'Record'},\n",
    "        template='plotly_dark',\n",
    "        category_orders={'x': simulator.record_keys}\n",
    "    ).show()"
   ]
  },
  {
   "cell_type": "code",
   "execution_count": null,
   "metadata": {},
   "outputs": [],
   "source": [
    "px.histogram(\n",
    "    simulator.run_phase_df,\n",
    "    title='Record distribution',\n",
    "    x=C.RECORD,\n",
    "    color=C.OPERATION,\n",
    "    category_orders={C.RECORD: simulator.record_keys},\n",
    "    template='plotly_dark'\n",
    ").show()"
   ]
  },
  {
   "cell_type": "code",
   "execution_count": null,
   "metadata": {},
   "outputs": [],
   "source": [
    "px.histogram(\n",
    "    simulator.run_phase_df,\n",
    "    x=C.TIMESTAMP,\n",
    "    color=C.OPERATION,\n",
    "    title='Operations distribution across time',\n",
    "    labels={'x': 'Time', 'y': 'Traffic count'},\n",
    "    template='plotly_dark'\n",
    ").show()"
   ]
  },
  {
   "cell_type": "code",
   "execution_count": null,
   "metadata": {},
   "outputs": [],
   "source": [
    "px.scatter(\n",
    "    simulator.run_phase_df,\n",
    "    title='Records over time',\n",
    "    x=C.TIMESTAMP,\n",
    "    y=C.RECORD,\n",
    "    category_orders={C.RECORD: list(reversed(simulator.record_keys))},\n",
    "    color=C.OPERATION,\n",
    "    template='plotly_dark'\n",
    ").show()"
   ]
  },
  {
   "cell_type": "code",
   "execution_count": null,
   "metadata": {},
   "outputs": [],
   "source": [
    "px.scatter(\n",
    "    simulator.run_phase_df,\n",
    "    title='Records over operation index',\n",
    "    x=simulator.run_phase_df.index,\n",
    "    y=C.RECORD,\n",
    "    category_orders={C.RECORD: list(reversed(simulator.record_keys))},\n",
    "    color=C.OPERATION,\n",
    "    template='plotly_dark'\n",
    ").show()"
   ]
  },
  {
   "cell_type": "code",
   "execution_count": null,
   "metadata": {},
   "outputs": [],
   "source": [
    "positive_y_true_df = simulator.run_phase_df[simulator.run_phase_df[C.Y_TRUE] > 0]\n",
    "px.histogram(\n",
    "    positive_y_true_df,\n",
    "    x=C.Y_TRUE,\n",
    "    title='Gold TTL distribution',\n",
    "    labels={'x': 'Gold TTL', 'y': 'Frequency'},\n",
    "    color=C.RECORD,\n",
    "    category_orders={C.RECORD: simulator.record_keys},\n",
    "    template='plotly_dark',\n",
    ").show()"
   ]
  },
  {
   "cell_type": "code",
   "execution_count": null,
   "metadata": {},
   "outputs": [],
   "source": [
    "px.box(\n",
    "    positive_y_true_df,\n",
    "    y=C.Y_TRUE,\n",
    "    title='Gold TTL statistics',\n",
    "    labels={'y': 'Gold TTL'},\n",
    "    color=C.RECORD,\n",
    "    category_orders={C.RECORD: simulator.record_keys},\n",
    "    template='plotly_dark'\n",
    ").update_traces(boxmean=True).show()"
   ]
  },
  {
   "cell_type": "code",
   "execution_count": null,
   "metadata": {},
   "outputs": [],
   "source": [
    "px.scatter(\n",
    "    simulator.run_phase_df,\n",
    "    x=C.TIMESTAMP,\n",
    "    y=C.Y_TRUE,\n",
    "    title='Gold TTL over time',\n",
    "    labels={'x': 'Time', 'y': 'Gold TTL'},\n",
    "    color=C.RECORD,\n",
    "    category_orders={C.RECORD: simulator.record_keys},\n",
    "    template='plotly_dark'\n",
    ").show()"
   ]
  },
  {
   "cell_type": "code",
   "execution_count": null,
   "metadata": {},
   "outputs": [],
   "source": [
    "sns.pairplot(\n",
    "    simulator.features_df,\n",
    "    diag_kind=\"kde\"\n",
    ")"
   ]
  }
 ],
 "metadata": {
  "kernelspec": {
   "display_name": "cachai",
   "language": "python",
   "name": "python3"
  },
  "language_info": {
   "codemirror_mode": {
    "name": "ipython",
    "version": 3
   },
   "file_extension": ".py",
   "mimetype": "text/x-python",
   "name": "python",
   "nbconvert_exporter": "python",
   "pygments_lexer": "ipython3",
   "version": "3.11.10"
  }
 },
 "nbformat": 4,
 "nbformat_minor": 2
}
